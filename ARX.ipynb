{
 "cells": [
  {
   "cell_type": "markdown",
   "id": "307accff",
   "metadata": {},
   "source": [
    "# Daisy Model\n",
    "Data of a laboratory setup acting like a hair dryer \n",
    "\n",
    "### Description\n",
    "Laboratory setup acting like a hair dryer. Air is fanned through a tube and heated at the inlet. The air temperature is measured by a thermocouple at the output. The input is the voltage over the heating device (a mesh of resistor wires).\n",
    "\n",
    "### Sampling\n",
    "**Number:** 1000\n",
    "\n",
    "### Inputs\n",
    "- **u:** voltage of the heating device\n",
    "\n",
    "### Outputs\n",
    "- **y:** output air temperature\n",
    "\n",
    "### References\n",
    "- Ljung L. *System Identification - Theory for the User.* Prentice Hall, Englewood Cliffs, NJ, 1987.  \n",
    "- Ljung L. *System Identification Toolbox. For Use with Matlab.* The Mathworks Inc., Mass., U.S.A., 1991.\n",
    "\n",
    "### Properties\n",
    "**Columns:**\n",
    "- Column 1: input u  \n",
    "- Column 2: output y"
   ]
  },
  {
   "cell_type": "code",
   "execution_count": null,
   "id": "a01edee5",
   "metadata": {},
   "outputs": [],
   "source": []
  },
  {
   "cell_type": "code",
   "execution_count": null,
   "metadata": {},
   "outputs": [],
   "source": []
  },
  {
   "cell_type": "code",
   "execution_count": null,
   "metadata": {},
   "outputs": [],
   "source": []
  },
  {
   "cell_type": "markdown",
   "id": "8a0486df",
   "metadata": {},
   "source": []
  }
 ],
 "metadata": {
  "language_info": {
   "name": "python"
  }
 },
 "nbformat": 4,
 "nbformat_minor": 5
}
